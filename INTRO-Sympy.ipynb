{
 "cells": [
  {
   "cell_type": "markdown",
   "metadata": {},
   "source": [
    "# Utilisation du clavier\n",
    "## clavier iPad\n",
    "`Esc`    cmd+.  \n",
    "`[]`    alt+5, alt+6  \n",
    "`{}`    alt+8, alt+9  \n",
    "`\\`     shift+alt+7  \n",
    "`#`    alt+3  \n",
    "`<>`    fn+<, shift+fn+<\n",
    "## raccourcis clavier\n",
    "*shift+enter*  exécuter une cellule  \n",
    "D'abord *Esc* (cmd + .), puis:  \n",
    "*a*     insérer cellule au-dessus (above)  \n",
    "*b*     insérer cellule en dessous (below)  \n",
    "*x*     supprimer la cellule active    "
   ]
  },
  {
   "cell_type": "markdown",
   "metadata": {},
   "source": [
    "# Sympy: Généralités\n",
    "Sympy est un module Python régulier. Contrairement à d'autres systèmes de calcul formel (CAS - computer algebra system), il ne nécessite pas l'apprentissage d'une syntaxe spécifique (hormis celle de Python, évidemment). Cela a notamment pour conséquence que les multiplications doivent toutes être notées explicitement et l'opérateur d'exponentiation (puissances) est `**` et non pas `^`.\n",
    "\n",
    "Les variables mathématiques ($x$, $y$, etc.) doivent être déclarées explicitement en utilisant, par exemple, `var('x')` ou `var('a b x y')`. (En fait, la commande `var('x')` crée un objet Python représentant une variable mathématique $x$ et cet objet Python est alors affecté à la variable Python `x`. Il est évidemment déconseillé d'affecter la variable mathématique $x$ à la variable Python `y`, bien que cela soit possible !)"
   ]
  },
  {
   "cell_type": "code",
   "execution_count": 1,
   "metadata": {},
   "outputs": [
    {
     "data": {
      "text/plain": [
       "(x, y)"
      ]
     },
     "execution_count": 1,
     "metadata": {},
     "output_type": "execute_result"
    }
   ],
   "source": [
    "from sympy import *\n",
    "var('x y')"
   ]
  },
  {
   "cell_type": "code",
   "execution_count": 2,
   "metadata": {},
   "outputs": [
    {
     "data": {
      "text/latex": [
       "$\\displaystyle \\left(3 x - 5\\right)^{2} - \\left(5 x y - 4 y^{2}\\right)^{2}$"
      ],
      "text/plain": [
       "(3*x - 5)**2 - (5*x*y - 4*y**2)**2"
      ]
     },
     "execution_count": 2,
     "metadata": {},
     "output_type": "execute_result"
    }
   ],
   "source": [
    "expr = (3*x-5)**2-(5*x*y-4*y**2)**2\n",
    "expr"
   ]
  },
  {
   "cell_type": "markdown",
   "metadata": {},
   "source": [
    "**Attention**: Les conventions usuelles de Python restent applicables: pour des entiers $a$ et $b$, l'entrée `a/b` exécute immédiatement la division au niveau Python sans que SymPy ait la chance de calculer les fractions de manière formelle. Pour éviter ce piège, il faut transformer l'un au moins des termes de la fraction moyennant `sympify()` ou `S()` afin de le transformer en expression SymPy. Le calcul sera alors pris en charge par SymPy:"
   ]
  },
  {
   "cell_type": "code",
   "execution_count": 39,
   "metadata": {},
   "outputs": [
    {
     "data": {
      "text/latex": [
       "$\\displaystyle 0.7333333333333334$"
      ],
      "text/plain": [
       "0.7333333333333334"
      ]
     },
     "execution_count": 39,
     "metadata": {},
     "output_type": "execute_result"
    }
   ],
   "source": [
    "1/3 + 2/5"
   ]
  },
  {
   "cell_type": "code",
   "execution_count": 40,
   "metadata": {},
   "outputs": [
    {
     "data": {
      "text/latex": [
       "$\\displaystyle \\frac{11}{15}$"
      ],
      "text/plain": [
       "11\n",
       "──\n",
       "15"
      ]
     },
     "execution_count": 40,
     "metadata": {},
     "output_type": "execute_result"
    }
   ],
   "source": [
    "S(1)/3 + S(2)/5"
   ]
  },
  {
   "cell_type": "markdown",
   "metadata": {},
   "source": [
    "Le dernier résultat _calculé_ (c.-à-d. la sortie `Out[]` de numéro le plus élevé) peut être référencé par la variable spéciale `_`. Il est aussi possible de référencer des résultats via leur numéro :"
   ]
  },
  {
   "cell_type": "code",
   "execution_count": 41,
   "metadata": {},
   "outputs": [
    {
     "data": {
      "text/latex": [
       "$\\displaystyle \\frac{11}{15}$"
      ],
      "text/plain": [
       "11\n",
       "──\n",
       "15"
      ]
     },
     "execution_count": 41,
     "metadata": {},
     "output_type": "execute_result"
    }
   ],
   "source": [
    "_"
   ]
  },
  {
   "cell_type": "code",
   "execution_count": 42,
   "metadata": {
    "scrolled": true
   },
   "outputs": [
    {
     "data": {
      "text/latex": [
       "$\\displaystyle \\frac{11}{15}$"
      ],
      "text/plain": [
       "11\n",
       "──\n",
       "15"
      ]
     },
     "execution_count": 42,
     "metadata": {},
     "output_type": "execute_result"
    }
   ],
   "source": [
    "_4"
   ]
  },
  {
   "cell_type": "markdown",
   "metadata": {},
   "source": [
    "## Calcul algébrique\n",
    "En règle générale, les manipulations d'expressions sont effectuées moyennant des méthodes associées aux objets Python représentant les expressions mathématiques (1er exemple ci-dessous). Certaines manipulations particulièrement importantes sont aussi disponibles sous formes de fonctions, c'est notamment le cas des fonctions `factor` et `expand`."
   ]
  },
  {
   "cell_type": "code",
   "execution_count": 5,
   "metadata": {},
   "outputs": [
    {
     "data": {
      "text/latex": [
       "$\\displaystyle \\left(3 x - 5\\right)^{2} - \\left(5 x y - 4 y^{2}\\right)^{2}$"
      ],
      "text/plain": [
       "(3*x - 5)**2 - (5*x*y - 4*y**2)**2"
      ]
     },
     "metadata": {},
     "output_type": "display_data"
    },
    {
     "data": {
      "text/latex": [
       "$\\displaystyle - \\left(5 x y - 3 x - 4 y^{2} + 5\\right) \\left(5 x y + 3 x - 4 y^{2} - 5\\right)$"
      ],
      "text/plain": [
       "-(5*x*y - 3*x - 4*y**2 + 5)*(5*x*y + 3*x - 4*y**2 - 5)"
      ]
     },
     "execution_count": 5,
     "metadata": {},
     "output_type": "execute_result"
    }
   ],
   "source": [
    "display(expr)\n",
    "factor(expr)"
   ]
  },
  {
   "cell_type": "code",
   "execution_count": 44,
   "metadata": {
    "scrolled": true
   },
   "outputs": [
    {
     "data": {
      "text/latex": [
       "$\\displaystyle - \\left(5 x y - 3 x - 4 y^{2} + 5\\right) \\left(5 x y + 3 x - 4 y^{2} - 5\\right)$"
      ],
      "text/plain": [
       " ⎛                 2    ⎞ ⎛                 2    ⎞\n",
       "-⎝5⋅x⋅y - 3⋅x - 4⋅y  + 5⎠⋅⎝5⋅x⋅y + 3⋅x - 4⋅y  - 5⎠"
      ]
     },
     "execution_count": 44,
     "metadata": {},
     "output_type": "execute_result"
    }
   ],
   "source": [
    "factor(expr)"
   ]
  },
  {
   "cell_type": "code",
   "execution_count": 45,
   "metadata": {},
   "outputs": [
    {
     "data": {
      "text/latex": [
       "$\\displaystyle - 25 x^{2} y^{2} + 9 x^{2} + 40 x y^{3} - 30 x - 16 y^{4} + 25$"
      ],
      "text/plain": [
       "      2  2      2         3              4     \n",
       "- 25⋅x ⋅y  + 9⋅x  + 40⋅x⋅y  - 30⋅x - 16⋅y  + 25"
      ]
     },
     "execution_count": 45,
     "metadata": {},
     "output_type": "execute_result"
    }
   ],
   "source": [
    "expand(expr)"
   ]
  },
  {
   "cell_type": "markdown",
   "metadata": {},
   "source": [
    "### Valeur numérique\n",
    "Evaluons l'expression $(x^2-2x)^5$ pour $x=\\frac{3\\sqrt{5}}{4}$.  \n",
    "La méthode `subs` est utilisée pour effectuer cette substitution. "
   ]
  },
  {
   "cell_type": "code",
   "execution_count": 15,
   "metadata": {},
   "outputs": [
    {
     "data": {
      "text/latex": [
       "$\\displaystyle \\left(\\frac{45}{16} - \\frac{3 \\sqrt{5}}{2}\\right)^{5}$"
      ],
      "text/plain": [
       "(45/16 - 3*sqrt(5)/2)**5"
      ]
     },
     "execution_count": 15,
     "metadata": {},
     "output_type": "execute_result"
    }
   ],
   "source": [
    "e = (x**2 - 2*x)**5\n",
    "e.subs(x, 3*sqrt(5)/4)"
   ]
  },
  {
   "cell_type": "code",
   "execution_count": 16,
   "metadata": {},
   "outputs": [
    {
     "data": {
      "text/latex": [
       "$\\displaystyle \\frac{4675168125}{1048576} - \\frac{261352575 \\sqrt{5}}{131072}$"
      ],
      "text/plain": [
       "4675168125/1048576 - 261352575*sqrt(5)/131072"
      ]
     },
     "execution_count": 16,
     "metadata": {},
     "output_type": "execute_result"
    }
   ],
   "source": [
    "expand(_)"
   ]
  },
  {
   "cell_type": "markdown",
   "metadata": {},
   "source": [
    "## Calcul numérique\n",
    "À l'instar d'autres CAS, SymPy permet de calculer soit de manière exacte sans limitation particulière quant à la taille des entiers, soit avec des nombres à virgule flottante (*floating point*) à précision arbitrairement élevée. Une valeur approchée en virgule flottante peut être obtenue en utilisant `expr.n()` ou `N(expr)` en indiquant optionnellement la précision souhaitée. (`expr.n(k)` donne une valeur approchée à $k$ chiffres significatifs.)"
   ]
  },
  {
   "cell_type": "code",
   "execution_count": 46,
   "metadata": {},
   "outputs": [
    {
     "data": {
      "text/latex": [
       "$\\displaystyle 51084981466469576881306176261004598750272741624636207875758364885679783886389114119904367398214909451616865959797190085595957216060201081790863562740711392408402606162284424347926444168293770306459877429620549980121621880068812119922825565603750036793657428476498577316887890689284884464423522469162924654419945496940052746066950867784084753581540148194316888303839694860870357008235525028115281402379270279446743097868896180567901452872031734195056432576568754346528258569883526859826727735838654082246721751819658052692396270611348013013786739320229706009940781025586038809493013992111030432473321532228589636150722621360366978607484692870955691740723349227220367512994355146567475980006373400215826077949494335370591623671142026957923937669224771617167959359650439966392673073180139376563073706562200771241291710828132078928672693377605280698340976512622686207175259108984253979970269330591951400265868944014001740606398220709859461709972092316953639707607509036387468655214963966625322700932867195641466506305265122238332824677892386098873045477946570475614470735681011537762930068333229753461311175690053190276217215938122229254011663319535668562288276814566536254139944327446923749675156838399258655227114181067181300031191298489076680172983118121156086627360397334232174932132686080901569496392129263706595509472541921027039947595787992209537069031379517112985804276412719491334730247762876260753560199012424360211862466047511184797159731714330368251192307852167757615200611669009575630075581632200897019110165738489288234845801413542090086926381756642228872729319587724120647133695447658709466047131787467521648967375146176025775545958018149895570817463048968329692812003996105944812538484291689075721849889797647554854834050132592317503861422078077932841396250772305892378304960421024845815047928229669342818218960243579473180986996883486164613586224677782405363675732940386436560159992961462550218529921214223556288943276860000631422449845365510986932611414112386178573447134236164502410346254516421812825350152383907925299199371093902393126317590337340371199288380603694517035662665827287352023563128756402516081749705325705196477769315311164029733067419282135214232605607889159739038923579732630816548135472123812968829466513428484683760888731900685205308016495533252055718190142644320009683032677163609744614629730631454898167462966265387871725580083514565623719270635683662268663333999029883429331462872848995229714115709023973771126468913873648061531223428749576267079084534656923514931496743842559669386638509884709307166187205161445819828263679270112614012378542273837296427044021252077863706963514486218183806491868791174785424506337810550453063897866281127060200866754011181906809870372032953354528699094096145120997842075109057859226120844176454175393781254004382091350994101959406590175402086698874583611581937347003423449521223245166665792257252160462357733000925232292157683100179557359793926298007588370474068230320921987459976042606283566005158202572800000000000000000000000000000000000000000000000000000000000000000000000000000000000000000000000000000000000000000000000000000000000000000000000000000000000000000000000000000000000000000000000000000000000000000000000000000000000000000000000000000000000000000000000000000000000000000000000000000000000000000$"
      ],
      "text/plain": [
       "510849814664695768813061762610045987502727416246362078757583648856797838863891\n",
       "141199043673982149094516168659597971900855959572160602010817908635627407113924\n",
       "084026061622844243479264441682937703064598774296205499801216218800688121199228\n",
       "255656037500367936574284764985773168878906892848844644235224691629246544199454\n",
       "969400527460669508677840847535815401481943168883038396948608703570082355250281\n",
       "152814023792702794467430978688961805679014528720317341950564325765687543465282\n",
       "585698835268598267277358386540822467217518196580526923962706113480130137867393\n",
       "202297060099407810255860388094930139921110304324733215322285896361507226213603\n",
       "669786074846928709556917407233492272203675129943551465674759800063734002158260\n",
       "779494943353705916236711420269579239376692247716171679593596504399663926730731\n",
       "801393765630737065622007712412917108281320789286726933776052806983409765126226\n",
       "862071752591089842539799702693305919514002658689440140017406063982207098594617\n",
       "099720923169536397076075090363874686552149639666253227009328671956414665063052\n",
       "651222383328246778923860988730454779465704756144707356810115377629300683332297\n",
       "534613111756900531902762172159381222292540116633195356685622882768145665362541\n",
       "399443274469237496751568383992586552271141810671813000311912984890766801729831\n",
       "181211560866273603973342321749321326860809015694963921292637065955094725419210\n",
       "270399475957879922095370690313795171129858042764127194913347302477628762607535\n",
       "601990124243602118624660475111847971597317143303682511923078521677576152006116\n",
       "690095756300755816322008970191101657384892882348458014135420900869263817566422\n",
       "288727293195877241206471336954476587094660471317874675216489673751461760257755\n",
       "459580181498955708174630489683296928120039961059448125384842916890757218498897\n",
       "976475548548340501325923175038614220780779328413962507723058923783049604210248\n",
       "458150479282296693428182189602435794731809869968834861646135862246777824053636\n",
       "757329403864365601599929614625502185299212142235562889432768600006314224498453\n",
       "655109869326114141123861785734471342361645024103462545164218128253501523839079\n",
       "252991993710939023931263175903373403711992883806036945170356626658272873520235\n",
       "631287564025160817497053257051964777693153111640297330674192821352142326056078\n",
       "891597390389235797326308165481354721238129688294665134284846837608887319006852\n",
       "053080164955332520557181901426443200096830326771636097446146297306314548981674\n",
       "629662653878717255800835145656237192706356836622686633339990298834293314628728\n",
       "489952297141157090239737711264689138736480615312234287495762670790845346569235\n",
       "149314967438425596693866385098847093071661872051614458198282636792701126140123\n",
       "785422738372964270440212520778637069635144862181838064918687911747854245063378\n",
       "105504530638978662811270602008667540111819068098703720329533545286990940961451\n",
       "209978420751090578592261208441764541753937812540043820913509941019594065901754\n",
       "020866988745836115819373470034234495212232451666657922572521604623577330009252\n",
       "322921576831001795573597939262980075883704740682303209219874599760426062835660\n",
       "051582025728000000000000000000000000000000000000000000000000000000000000000000\n",
       "000000000000000000000000000000000000000000000000000000000000000000000000000000\n",
       "000000000000000000000000000000000000000000000000000000000000000000000000000000\n",
       "000000000000000000000000000000000000000000000000000000000000000000000000000000\n",
       "00000"
      ]
     },
     "execution_count": 46,
     "metadata": {},
     "output_type": "execute_result"
    }
   ],
   "source": [
    "factorial(1234)"
   ]
  },
  {
   "cell_type": "code",
   "execution_count": 10,
   "metadata": {},
   "outputs": [
    {
     "data": {
      "text/latex": [
       "$\\displaystyle 5.10849814664696 \\cdot 10^{3280}$"
      ],
      "text/plain": [
       "5.10849814664696e+3280"
      ]
     },
     "execution_count": 10,
     "metadata": {},
     "output_type": "execute_result"
    }
   ],
   "source": [
    "factorial(1234).n()"
   ]
  },
  {
   "cell_type": "code",
   "execution_count": 9,
   "metadata": {},
   "outputs": [
    {
     "data": {
      "text/latex": [
       "$\\displaystyle 3.141592653589793238462643383279502884197169399375105820974944592307816406286208998628034825342117068$"
      ],
      "text/plain": [
       "3.141592653589793238462643383279502884197169399375105820974944592307816406286208998628034825342117068"
      ]
     },
     "execution_count": 9,
     "metadata": {},
     "output_type": "execute_result"
    }
   ],
   "source": [
    "pi.n(100)"
   ]
  },
  {
   "cell_type": "code",
   "execution_count": 13,
   "metadata": {},
   "outputs": [
    {
     "data": {
      "text/latex": [
       "$\\displaystyle 3.14$"
      ],
      "text/plain": [
       "3.14"
      ]
     },
     "execution_count": 13,
     "metadata": {},
     "output_type": "execute_result"
    }
   ],
   "source": [
    "N(pi, 3)"
   ]
  },
  {
   "cell_type": "markdown",
   "metadata": {},
   "source": [
    "# Programmation"
   ]
  },
  {
   "cell_type": "markdown",
   "metadata": {},
   "source": [
    "## Une formule étonnante\n",
    "Soit un entier naturel $n$ et considérons $p = n^2 - n + 41$."
   ]
  },
  {
   "cell_type": "code",
   "execution_count": 2,
   "metadata": {},
   "outputs": [
    {
     "name": "stdout",
     "output_type": "stream",
     "text": [
      "41\n",
      "41\n",
      "43\n",
      "47\n",
      "53\n",
      "61\n",
      "71\n",
      "83\n",
      "97\n",
      "113\n"
     ]
    }
   ],
   "source": [
    "for n in range(10):\n",
    "    print(n**2-n+41)"
   ]
  },
  {
   "cell_type": "markdown",
   "metadata": {},
   "source": [
    "**Conjecture**: Les nombres $p$ sont tous des nombres premiers, quel que soit $n$.\n",
    "\n",
    "Essayons de vérifier."
   ]
  },
  {
   "cell_type": "code",
   "execution_count": 4,
   "metadata": {},
   "outputs": [
    {
     "name": "stdout",
     "output_type": "stream",
     "text": [
      "True\n",
      "True\n",
      "True\n",
      "True\n",
      "True\n",
      "True\n",
      "True\n",
      "True\n",
      "True\n",
      "True\n",
      "True\n",
      "True\n",
      "True\n",
      "True\n",
      "True\n",
      "True\n",
      "True\n",
      "True\n",
      "True\n",
      "True\n"
     ]
    }
   ],
   "source": [
    "for n in range(20):\n",
    "    print(isprime(n**2-n+41))"
   ]
  },
  {
   "cell_type": "markdown",
   "metadata": {},
   "source": [
    "Ça a l'air prometteur! Laissons tourner plus longtemps:"
   ]
  },
  {
   "cell_type": "code",
   "execution_count": 17,
   "metadata": {},
   "outputs": [
    {
     "name": "stdout",
     "output_type": "stream",
     "text": [
      "Contre-exemple:  n = 41\n"
     ]
    }
   ],
   "source": [
    "n=0\n",
    "while isprime(n**2-n+41):\n",
    "    n = n + 1\n",
    "print(\"Contre-exemple:  n =\", n)"
   ]
  },
  {
   "cell_type": "markdown",
   "metadata": {},
   "source": [
    "## Nombres premiers entre eux\n",
    "Soit $n$ un entier naturel ($n\\geq2$) et considérons $f=n^5-5$\n",
    " et $g=(n+1)^5-5$.\n",
    " \n",
    " Conjecture: $f$ et $g$ sont premiers entre eux, c'est-à-dire leur plus grand commun diviseur (pgcd, gcd en anglais), est 1.\n",
    " \n",
    " Vérifiez cette conjecture pour $2\\leq n\\leq99$. (La relation \"différent de\" est noté `!=`.)"
   ]
  },
  {
   "cell_type": "code",
   "execution_count": 7,
   "metadata": {},
   "outputs": [],
   "source": [
    "for n in range(2, 100):\n",
    "    f = ...\n",
    "    g = ...\n",
    "    if ... :\n",
    "        print(...)"
   ]
  },
  {
   "cell_type": "markdown",
   "metadata": {},
   "source": [
    "Devoir à domicile: Trouvez un contre-exemple! (Inspirez-vous de l'exemple précédent.)"
   ]
  },
  {
   "cell_type": "code",
   "execution_count": null,
   "metadata": {},
   "outputs": [],
   "source": []
  }
 ],
 "metadata": {
  "kernelspec": {
   "display_name": "Python 3 (ipykernel)",
   "language": "python",
   "name": "python3"
  },
  "language_info": {
   "codemirror_mode": {
    "name": "ipython",
    "version": 3
   },
   "file_extension": ".py",
   "mimetype": "text/x-python",
   "name": "python",
   "nbconvert_exporter": "python",
   "pygments_lexer": "ipython3",
   "version": "3.9.8+"
  }
 },
 "nbformat": 4,
 "nbformat_minor": 2
}
