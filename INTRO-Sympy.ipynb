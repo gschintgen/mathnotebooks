{
 "cells": [
  {
   "cell_type": "markdown",
   "metadata": {},
   "source": [
    "Remarque: ce _notebook_ \"Jupyter\" est destiné à une exploration interactive via le service [Binder](https://mybinder.org/):\n",
    "[![Binder](https://mybinder.org/badge_logo.svg)](https://mybinder.org/v2/gh/gschintgen/mathnotebooks/HEAD?labpath=INTRO-Sympy.ipynb)"
   ]
  },
  {
   "cell_type": "markdown",
   "metadata": {},
   "source": [
    "# Utilisation du clavier\n",
    "### clavier iPad\n",
    "`Esc`    cmd+.  \n",
    "`[]`    alt+5, alt+6  \n",
    "`{}`    alt+8, alt+9  \n",
    "`\\`     shift+alt+7  \n",
    "`#`    alt+3  \n",
    "`<>`    fn+<, shift+fn+<\n",
    "### raccourcis clavier\n",
    "*shift+enter*  exécuter une cellule  \n",
    "D'abord *Esc* (cmd + .), puis:  \n",
    "*a*     insérer cellule au-dessus (above)  \n",
    "*b*     insérer cellule en dessous (below)  \n",
    "*x*     supprimer la cellule active    "
   ]
  },
  {
   "cell_type": "markdown",
   "metadata": {},
   "source": [
    "# SymPy: Généralités\n",
    "SymPy est un module Python permettant de faire du calcul formel. Contrairement à d'autres systèmes de calcul formel (CAS - computer algebra system), il ne nécessite pas l'apprentissage d'une syntaxe spécifique (hormis celle de Python, évidemment). Cela a notamment pour conséquence que les multiplications doivent toutes être notées explicitement et l'opérateur d'exponentiation (puissances) est `**` et non pas `^`.\n",
    "\n",
    "Les variables mathématiques ($x$, $y$, etc.) doivent être déclarées explicitement en utilisant, par exemple, `var('x')` ou `var('a b x y')`. (En fait, la commande `var('x')` crée un objet Python représentant une variable mathématique $x$ et cet objet Python est alors affecté à la variable Python `x`. Il est évidemment déconseillé d'affecter la variable mathématique $x$ à la variable Python `y`, bien que cela soit possible !)"
   ]
  },
  {
   "cell_type": "code",
   "execution_count": null,
   "metadata": {},
   "outputs": [],
   "source": [
    "from sympy import *\n",
    "var('x y')"
   ]
  },
  {
   "cell_type": "code",
   "execution_count": null,
   "metadata": {},
   "outputs": [],
   "source": [
    "3*x + 5*x"
   ]
  },
  {
   "cell_type": "code",
   "execution_count": null,
   "metadata": {},
   "outputs": [],
   "source": [
    "expr = (3*x-5)**2-(5*x*y-4*y**2)**2\n",
    "expr"
   ]
  },
  {
   "cell_type": "markdown",
   "metadata": {},
   "source": [
    "**Attention**: Les conventions usuelles de Python restent applicables: pour des entiers $a$ et $b$, l'entrée `a/b` exécute immédiatement la division au niveau Python sans que SymPy ait la chance de calculer les fractions de manière formelle. Pour éviter ce piège, il faut transformer l'un au moins des termes de la fraction moyennant `sympify()` ou `S()` afin de le transformer en expression SymPy. Le calcul sera alors pris en charge par SymPy:"
   ]
  },
  {
   "cell_type": "code",
   "execution_count": null,
   "metadata": {},
   "outputs": [],
   "source": [
    "1/3 + 2/5"
   ]
  },
  {
   "cell_type": "code",
   "execution_count": null,
   "metadata": {},
   "outputs": [],
   "source": [
    "S(1)/3 + S(2)/5"
   ]
  },
  {
   "cell_type": "markdown",
   "metadata": {},
   "source": [
    "Le dernier résultat _calculé_ (c.-à-d. la sortie `Out[]` de numéro le plus élevé) peut être référencé par la variable spéciale `_`. Il est aussi possible de référencer des résultats via leur numéro :"
   ]
  },
  {
   "cell_type": "code",
   "execution_count": null,
   "metadata": {},
   "outputs": [],
   "source": [
    "_"
   ]
  },
  {
   "cell_type": "code",
   "execution_count": null,
   "metadata": {
    "scrolled": true
   },
   "outputs": [],
   "source": [
    "_4"
   ]
  },
  {
   "cell_type": "markdown",
   "metadata": {},
   "source": [
    "### Calcul algébrique\n",
    "En règle générale, les manipulations d'expressions sont effectuées moyennant des *méthodes* associées aux objets Python représentant les expressions mathématiques (1er exemple ci-dessous). Certaines manipulations particulièrement importantes sont aussi disponibles sous formes de fonctions, c'est notamment le cas des fonctions `factor` et `expand`."
   ]
  },
  {
   "cell_type": "code",
   "execution_count": null,
   "metadata": {},
   "outputs": [],
   "source": [
    "display(expr)\n",
    "expr.factor()     # méthode .factor()"
   ]
  },
  {
   "cell_type": "code",
   "execution_count": null,
   "metadata": {},
   "outputs": [],
   "source": [
    "factor(expr)      # fonction factor()"
   ]
  },
  {
   "cell_type": "code",
   "execution_count": null,
   "metadata": {
    "scrolled": true
   },
   "outputs": [],
   "source": [
    "expand(expr)"
   ]
  },
  {
   "cell_type": "markdown",
   "metadata": {},
   "source": [
    "**Exercice**: Retrouver les identités remarquables des 2e et 3e degrés."
   ]
  },
  {
   "cell_type": "code",
   "execution_count": null,
   "metadata": {},
   "outputs": [],
   "source": []
  },
  {
   "cell_type": "markdown",
   "metadata": {},
   "source": [
    "### Valeurs numériques\n",
    "Evaluons l'expression $(x^2-2x)^5$ pour $x=\\frac{3\\sqrt{5}}{4}$.  \n",
    "La méthode `subs` est utilisée pour effectuer cette substitution. "
   ]
  },
  {
   "cell_type": "code",
   "execution_count": null,
   "metadata": {},
   "outputs": [],
   "source": [
    "e = (x**2 - 2*x)**5\n",
    "e.subs(x, 3*sqrt(5)/4)"
   ]
  },
  {
   "cell_type": "code",
   "execution_count": null,
   "metadata": {
    "scrolled": true
   },
   "outputs": [],
   "source": [
    "expand(_)"
   ]
  },
  {
   "cell_type": "markdown",
   "metadata": {},
   "source": [
    "**Exercice**: Entrer la formule pour l'aire d'un disque, puis calculer la valeur _exacte_ pour $r=\\frac{2}{3}$."
   ]
  },
  {
   "cell_type": "code",
   "execution_count": null,
   "metadata": {},
   "outputs": [],
   "source": []
  },
  {
   "cell_type": "markdown",
   "metadata": {},
   "source": [
    "### Calcul numérique\n",
    "À l'instar d'autres CAS, SymPy permet de calculer soit de manière exacte sans limitation particulière quant à la taille des entiers, soit avec des nombres à virgule flottante (*floating point*) à précision arbitrairement élevée. Une valeur approchée en virgule flottante peut être obtenue en utilisant `expr.n()` ou `N(expr)` en indiquant optionnellement la précision souhaitée. (`expr.n(k)` donne une valeur approchée à $k$ chiffres significatifs.)"
   ]
  },
  {
   "cell_type": "code",
   "execution_count": null,
   "metadata": {},
   "outputs": [],
   "source": [
    "factorial(1234)"
   ]
  },
  {
   "cell_type": "code",
   "execution_count": null,
   "metadata": {},
   "outputs": [],
   "source": [
    "factorial(1234).n()"
   ]
  },
  {
   "cell_type": "code",
   "execution_count": null,
   "metadata": {},
   "outputs": [],
   "source": [
    "pi.n(100)"
   ]
  },
  {
   "cell_type": "code",
   "execution_count": null,
   "metadata": {},
   "outputs": [],
   "source": [
    "N(pi, 3)"
   ]
  },
  {
   "cell_type": "markdown",
   "metadata": {},
   "source": [
    "### Résolution d'équations\n",
    "L'ensemble des solutions d'une équation peut être obtenu moyennant la fonction `solveset`. Il est conseillé de mettre l'équation sous la forme $f(x) = 0$ et d'entrer l'expression à annuler (ici: $f(x)$) comme argument. "
   ]
  },
  {
   "cell_type": "code",
   "execution_count": null,
   "metadata": {},
   "outputs": [],
   "source": [
    "solveset(x**2-5*x+3)"
   ]
  },
  {
   "cell_type": "code",
   "execution_count": null,
   "metadata": {},
   "outputs": [],
   "source": [
    "solveset(x**2 + 9)"
   ]
  },
  {
   "cell_type": "markdown",
   "metadata": {},
   "source": [
    "Ce dernier résultat peut être inattendu. Les calculs peuvent être restreints aux nombres réels en précisant l'inconnue et son domaine `Reals`:"
   ]
  },
  {
   "cell_type": "code",
   "execution_count": null,
   "metadata": {},
   "outputs": [],
   "source": [
    "solveset(x**2 + 9, x, S.Reals)"
   ]
  },
  {
   "cell_type": "markdown",
   "metadata": {},
   "source": [
    "**Exercice**: Calculer la valeur exacte du rayon d'un disque dont l'aire mesure 100 unités d'aire."
   ]
  },
  {
   "cell_type": "code",
   "execution_count": null,
   "metadata": {},
   "outputs": [],
   "source": []
  },
  {
   "cell_type": "markdown",
   "metadata": {},
   "source": [
    "# Éléments de programmation"
   ]
  },
  {
   "cell_type": "markdown",
   "metadata": {},
   "source": [
    "### Une formule étonnante\n",
    "Soit un entier naturel $n$ et considérons $p = n^2 - n + 41$. Calculons les 20 premières valeurs de cette expression:"
   ]
  },
  {
   "cell_type": "code",
   "execution_count": null,
   "metadata": {},
   "outputs": [],
   "source": [
    "for n in range(20):\n",
    "    print(...)"
   ]
  },
  {
   "cell_type": "markdown",
   "metadata": {},
   "source": [
    "**Conjecture**: Les nombres $p$ sont tous des nombres premiers, quel que soit $n$.\n",
    "\n",
    "Essayons de vérifier en utilisant la fonction `isprime`:"
   ]
  },
  {
   "cell_type": "code",
   "execution_count": null,
   "metadata": {},
   "outputs": [],
   "source": [
    "for ...:\n",
    "    ..."
   ]
  },
  {
   "cell_type": "markdown",
   "metadata": {},
   "source": [
    "Ça a l'air prometteur! Laissons tourner plus longtemps:"
   ]
  },
  {
   "cell_type": "code",
   "execution_count": null,
   "metadata": {},
   "outputs": [],
   "source": [
    "n=0\n",
    "while ...:\n",
    "    ...\n",
    "print(\"Contre-exemple:  n =\", n)"
   ]
  },
  {
   "cell_type": "markdown",
   "metadata": {},
   "source": [
    "### Nombres premiers entre eux\n",
    "Soit $n$ un entier naturel ($n\\geq2$) et considérons $f=n^5-2$\n",
    " et $g=(n+1)^5-2$.\n",
    " \n",
    " Conjecture: $f$ et $g$ sont premiers entre eux, c'est-à-dire leur plus grand commun diviseur (pgcd, `gcd` en anglais), est 1.\n",
    " \n",
    " Vérifiez cette conjecture pour $2\\leq n\\leq100$. (La relation \"différent de\" est notée `!=`.)"
   ]
  },
  {
   "cell_type": "code",
   "execution_count": null,
   "metadata": {},
   "outputs": [],
   "source": [
    "for n in ...:\n",
    "    if ... :\n",
    "        print(...)"
   ]
  },
  {
   "cell_type": "markdown",
   "metadata": {},
   "source": [
    "Trouvez un contre-exemple! Quel est alors le pgcd des deux nombres?  \n",
    "(Inspirez-vous de l'exercice précédent.)"
   ]
  },
  {
   "cell_type": "code",
   "execution_count": null,
   "metadata": {},
   "outputs": [],
   "source": []
  }
 ],
 "metadata": {
  "kernelspec": {
   "display_name": "Python [conda env:SymPy]",
   "language": "python",
   "name": "conda-env-SymPy-py"
  },
  "language_info": {
   "codemirror_mode": {
    "name": "ipython",
    "version": 3
   },
   "file_extension": ".py",
   "mimetype": "text/x-python",
   "name": "python",
   "nbconvert_exporter": "python",
   "pygments_lexer": "ipython3",
   "version": "3.9.7"
  }
 },
 "nbformat": 4,
 "nbformat_minor": 2
}
